{
 "cells": [
  {
   "cell_type": "code",
   "execution_count": 1,
   "metadata": {},
   "outputs": [],
   "source": [
    "import json\n",
    "from matplotlib import pyplot as plt\n",
    "from collections import defaultdict\n",
    "from sklearn import linear_model, metrics\n",
    "from scipy import optimize\n",
    "import numpy as np\n",
    "import random\n",
    "import gzip\n",
    "import math"
   ]
  },
  {
   "cell_type": "code",
   "execution_count": 2,
   "metadata": {},
   "outputs": [],
   "source": [
    "def parse(path):\n",
    "  g = gzip.open(path, 'r')\n",
    "  for l in g:\n",
    "    yield eval(l)\n",
    "\n",
    "null = None\n",
    "count = 0\n",
    "\n",
    "dataset = []\n",
    "for l in parse(\"renttherunway_final_data.json.gz\"):\n",
    "  if l[\"rating\"] != null:\n",
    "    dataset.append(l)\n",
    "    count += 1\n",
    "    if count >= 100000:\n",
    "      break\n"
   ]
  },
  {
   "cell_type": "code",
   "execution_count": 3,
   "metadata": {},
   "outputs": [
    {
     "name": "stdout",
     "output_type": "stream",
     "text": [
      "80000\n",
      "20000\n",
      "{'fit': 'small', 'user_id': '185966', 'bust size': '34b', 'item_id': '1077123', 'weight': '135lbs', 'rating': '8', 'rented for': 'party', 'review_text': \"The dress arrived with a small hole in the beading on the front but wasn't too noticeable. Glad I was able to get two sizes because the 4 was a little tight and would've made for an uncomfortable night of dancing! \", 'body type': 'athletic', 'review_summary': \"It was fun to wear a dress I wouldn't normally buy! \", 'category': 'dress', 'height': '5\\' 3\"', 'size': 12, 'age': '33', 'review_date': 'January 2, 2018'}\n"
     ]
    }
   ],
   "source": [
    "dataTrain = dataset[:80000]\n",
    "dataTest = dataset[80000:]\n",
    "\n",
    "print(len(dataTrain))\n",
    "print(len(dataTest))\n",
    "print(dataset[10])"
   ]
  },
  {
   "cell_type": "code",
   "execution_count": 4,
   "metadata": {},
   "outputs": [],
   "source": [
    "def MSE(predictions, labels):\n",
    "    differences = [(x-y)**2 for x,y in zip(predictions,labels)]\n",
    "    return sum(differences) / len(differences)\n",
    "\n",
    "Ytrain = [float(y['rating']) for y in dataTrain]\n",
    "Ytest = [float(y['rating']) for y in dataTest]"
   ]
  },
  {
   "cell_type": "markdown",
   "metadata": {},
   "source": [
    "## 1. Estimates a rating from the number of times the exclamation mark (!) symbol is used in the review"
   ]
  },
  {
   "cell_type": "code",
   "execution_count": 5,
   "metadata": {},
   "outputs": [
    {
     "name": "stdout",
     "output_type": "stream",
     "text": [
      "MSE: 1.9583700211654784\n"
     ]
    }
   ],
   "source": [
    "def feature1(data):\n",
    "    return [1, float(data['review_text'].count('!'))]\n",
    "\n",
    "Xtrain = [feature1(x) for x in dataTrain]\n",
    "Xtest = [feature1(x) for x in dataTest]\n",
    "\n",
    "theta, residuals, rank, s = np.linalg.lstsq(Xtrain,Ytrain,rcond=None)\n",
    "\n",
    "predictions = np.dot(Xtest, theta)\n",
    "print(\"MSE: \" + str(MSE(predictions, Ytest)))"
   ]
  },
  {
   "cell_type": "markdown",
   "metadata": {},
   "source": [
    "## 2. Estimates a rating from the number of times the exclamation mark (!) symbol is used in the review and the review summary"
   ]
  },
  {
   "cell_type": "code",
   "execution_count": 6,
   "metadata": {},
   "outputs": [
    {
     "name": "stdout",
     "output_type": "stream",
     "text": [
      "MSE: 1.9106472689289316\n"
     ]
    }
   ],
   "source": [
    "def feature2(data):\n",
    "    return [1, float(data['review_text'].count('!')), float(data['review_summary'].count('!'))]\n",
    "\n",
    "Xtrain = [feature2(x) for x in dataTrain]\n",
    "Xtest = [feature2(x) for x in dataTest]\n",
    "\n",
    "theta, residuals, rank, s = np.linalg.lstsq(Xtrain,Ytrain,rcond=None)\n",
    "\n",
    "predictions = np.dot(Xtest, theta)\n",
    "print(\"MSE: \" + str(MSE(predictions, Ytest)))"
   ]
  },
  {
   "cell_type": "markdown",
   "metadata": {},
   "source": [
    "## 3. Estimates a rating from the length of the review and the number of times the exclamation mark (!) symbol is used in the review and the review summary"
   ]
  },
  {
   "cell_type": "code",
   "execution_count": 7,
   "metadata": {},
   "outputs": [
    {
     "name": "stdout",
     "output_type": "stream",
     "text": [
      "MSE: 1.9029322010328265\n"
     ]
    }
   ],
   "source": [
    "def feature3(data):\n",
    "    return [1, float(len(data['review_text'])), float(data['review_text'].count('!')), float(data['review_summary'].count('!'))]\n",
    "\n",
    "Xtrain = [feature3(x) for x in dataTrain]\n",
    "Xtest = [feature3(x) for x in dataTest]\n",
    "\n",
    "theta, residuals, rank, s = np.linalg.lstsq(Xtrain,Ytrain,rcond=None)\n",
    "\n",
    "predictions = np.dot(Xtest, theta)\n",
    "print(\"MSE: \" + str(MSE(predictions, Ytest)))"
   ]
  },
  {
   "cell_type": "markdown",
   "metadata": {},
   "source": [
    "## 4. Train a model that fits a polynomial function to estimate ratings based on our ‘!’ feature"
   ]
  },
  {
   "cell_type": "code",
   "execution_count": 8,
   "metadata": {},
   "outputs": [
    {
     "name": "stdout",
     "output_type": "stream",
     "text": [
      "MSE for count('!') with degree 2 :1.94793280030395\n",
      "MSE for count('!') with degree 3 :1.9417690198764075\n",
      "MSE for count('!') with degree 4 :1.9370901166116563\n",
      "MSE for count('!') with degree 5 :1.9344976330643133\n"
     ]
    }
   ],
   "source": [
    "def feature4(datum, deg):\n",
    "    # feature for a specific polynomial degree\n",
    "    val = float(datum['review_text'].count('!'))\n",
    "    res = [1, val]\n",
    "    i = 1\n",
    "    while i < deg:\n",
    "        res.append(val ** (i+1))\n",
    "        i += 1\n",
    "    return res\n",
    "\n",
    "mses = []\n",
    "for deg in range(2,6):\n",
    "    Xtrain = [feature4(x, deg) for x in dataTrain]\n",
    "    Xtest = [feature4(x, deg) for x in dataTest]\n",
    "\n",
    "    theta, residuals, rank, s = np.linalg.lstsq(Xtrain,Ytrain,rcond=None)\n",
    "    predictions = np.dot(Xtest, theta)\n",
    "    print(\"MSE for count('!') with degree \" + str(deg) + \" :\" + str(MSE(predictions, Ytest)))"
   ]
  }
 ],
 "metadata": {
  "kernelspec": {
   "display_name": "Python 3.7.6 ('base')",
   "language": "python",
   "name": "python3"
  },
  "language_info": {
   "codemirror_mode": {
    "name": "ipython",
    "version": 3
   },
   "file_extension": ".py",
   "mimetype": "text/x-python",
   "name": "python",
   "nbconvert_exporter": "python",
   "pygments_lexer": "ipython3",
   "version": "3.7.6"
  },
  "orig_nbformat": 4,
  "vscode": {
   "interpreter": {
    "hash": "b08888952506c74ff2e92a3802ecdee07f63a748723888f137e485c003fff885"
   }
  }
 },
 "nbformat": 4,
 "nbformat_minor": 2
}
